{
 "cells": [
  {
   "cell_type": "code",
   "execution_count": 11,
   "metadata": {
    "ExecuteTime": {
     "end_time": "2017-10-01T11:03:02.377230Z",
     "start_time": "2017-10-01T11:02:57.731188Z"
    }
   },
   "outputs": [],
   "source": [
    "from __future__ import unicode_literals, print_function, division\n",
    "from io import open\n",
    "import glob\n",
    "import unicodedata\n",
    "import string\n",
    "from torch import optim\n",
    "\n",
    "all_letters = \"ЙЦУКЕНГШЩЗЗХЪФЫВАПРОЛДЖЭЯЧСМИТЬБЮ\" + \" .,;'-\"\n",
    "n_letters = len(all_letters) + 1 # Plus EOS marker\n",
    "\n",
    "def findFiles(path): return glob.glob(path)\n",
    "\n",
    "def toLowerCaseMy(start_letters):\n",
    "    new_string_list=[]\n",
    "    for i in range(len(start_letters)):\n",
    "        if ((ord(start_letters[i]))<1072) and ((ord(start_letters[i]))>=1040):\n",
    "            new_string_list.append(chr(ord(start_letters[i])+32))\n",
    "        else:\n",
    "            new_string_list.append(start_letters[i])\n",
    "    return \"\".join(new_string_list)\n",
    "\n",
    "def toUpperCaseMy(start_letters):\n",
    "    new_string_list=[]\n",
    "    for i in range(len(start_letters)):\n",
    "        if ((ord(start_letters[i]))<(1072+32)) and ((ord(start_letters[i]))>=(1040+32)):\n",
    "            new_string_list.append(chr(ord(start_letters[i])-32))\n",
    "        else:\n",
    "            new_string_list.append(start_letters[i])\n",
    "    return \"\".join(new_string_list)\n",
    "\n",
    "def capitalizeMy(start_letters):\n",
    "    new_string_list=[]\n",
    "    for i in range(len(start_letters)):\n",
    "        if ((ord(start_letters[i]))<(1072+32)) and ((ord(start_letters[i]))>=(1040+32)) and (i==0):\n",
    "            new_string_list.append(chr(ord(start_letters[i])-32))\n",
    "        else:\n",
    "            new_string_list.append(start_letters[i])\n",
    "    return \"\".join(new_string_list)\n",
    "\n",
    "\n",
    "# Turn a Unicode string to plain ASCII, thanks to http://stackoverflow.com/a/518232/2809427\n",
    "def unicodeToAscii(s):\n",
    "    return ''.join(\n",
    "        c for c in unicodedata.normalize('NFD', s)\n",
    "        if unicodedata.category(c) != 'Mn'\n",
    "        and c in all_letters\n",
    "    )\n",
    "\n",
    "# Read a file and split into lines\n",
    "def readLines(filename):\n",
    "    lines = open(filename, encoding='utf-8').read().strip().split('\\n')\n",
    "    return [unicodeToAscii(line) for line in lines]\n",
    "\n",
    "class MyDict():\n",
    "    def __init__(self, path):\n",
    "        # Build the category_lines dictionary, a list of lines per category\n",
    "        self.category_lines = {}\n",
    "        self.all_categories = []\n",
    "        for filename in findFiles('data/'+path+'/*.txt'):\n",
    "            category = filename.split('/')[-1].split('.')[0]\n",
    "            self.all_categories.append(category)\n",
    "            lines = readLines(filename)\n",
    "            self.category_lines[category] = lines\n",
    "\n",
    "        self.n_categories = len(self.all_categories)\n",
    "\n",
    "\n",
    "dict1 = MyDict(\"dict1\")\n",
    "dict2 = MyDict(\"dict2\")\n",
    "dict3 = MyDict(\"dict3\")"
   ]
  },
  {
   "cell_type": "code",
   "execution_count": 99,
   "metadata": {
    "ExecuteTime": {
     "end_time": "2017-10-01T12:10:34.545695Z",
     "start_time": "2017-10-01T12:10:34.493639Z"
    },
    "collapsed": true
   },
   "outputs": [],
   "source": [
    "import torch\n",
    "import torch.nn as nn\n",
    "from torch.autograd import Variable\n",
    "\n",
    "# Find letter index from all_letters, e.g. \"a\" = 0\n",
    "def letterToIndex(letter):\n",
    "    return all_letters.find(letter)\n",
    "\n",
    "# Turn a line into a <line_length x 1 x n_letters>,\n",
    "# or an array of one-hot letter vectors\n",
    "def lineToTensor(line):\n",
    "    tensor = torch.zeros(len(line), 1, n_letters)\n",
    "    for li, letter in enumerate(line):\n",
    "        tensor[li][0][letterToIndex(letter)] = 1\n",
    "    return tensor\n",
    "\n",
    "class RNN(nn.Module):\n",
    "    def __init__(self, input_size, hidden_size, output_size):\n",
    "        super(RNN, self).__init__()\n",
    "        self.hidden_size = hidden_size\n",
    "\n",
    "        self.i2h = nn.Linear(dict1.n_categories + input_size + hidden_size, hidden_size)\n",
    "        self.i2o = nn.Linear(dict1.n_categories + input_size + hidden_size, output_size)\n",
    "        self.o2o = nn.Linear(hidden_size + output_size, output_size)\n",
    "        self.dropout = nn.Dropout(0.2)\n",
    "        self.softmax = nn.LogSoftmax()\n",
    "\n",
    "    def forward(self, category, input, hidden):\n",
    "        input_combined = torch.cat((category, input, hidden), 1)\n",
    "        hidden = self.i2h(input_combined)\n",
    "        #hidden = self.dropout(hidden)\n",
    "        output = self.i2o(input_combined)\n",
    "        output_combined = torch.cat((hidden, output), 1)\n",
    "        output = self.o2o(output_combined)\n",
    "        output = self.dropout(output)\n",
    "        output = self.softmax(output)\n",
    "        return output, hidden\n",
    "\n",
    "    def initHidden(self):\n",
    "        return Variable(torch.zeros(1, self.hidden_size))"
   ]
  },
  {
   "cell_type": "code",
   "execution_count": 100,
   "metadata": {
    "ExecuteTime": {
     "end_time": "2017-10-01T12:10:35.631028Z",
     "start_time": "2017-10-01T12:10:35.622018Z"
    },
    "collapsed": true
   },
   "outputs": [],
   "source": [
    "import random\n",
    "\n",
    "# Random item from a list\n",
    "def randomChoice(l):\n",
    "    return l[random.randint(0, len(l) - 1)]\n",
    "\n",
    "# Get a random category and random line from that category\n",
    "def randomTrainingPair(my_dict):\n",
    "    category = randomChoice(my_dict.all_categories)\n",
    "    line = randomChoice(my_dict.category_lines[category])\n",
    "    return category, line"
   ]
  },
  {
   "cell_type": "code",
   "execution_count": 101,
   "metadata": {
    "ExecuteTime": {
     "end_time": "2017-10-01T12:10:36.203726Z",
     "start_time": "2017-10-01T12:10:36.186708Z"
    },
    "collapsed": true
   },
   "outputs": [],
   "source": [
    "# One-hot vector for category\n",
    "def categoryTensor(category,my_dict):\n",
    "    li = my_dict.all_categories.index(category)\n",
    "    tensor = torch.zeros(1, my_dict.n_categories)\n",
    "    #tensor[0][li] = 1\n",
    "    tensor[0][0] = 1#hack\n",
    "    return tensor\n",
    "\n",
    "# One-hot matrix of first to last letters (not including EOS) for input\n",
    "def inputTensor(line):\n",
    "    tensor = torch.zeros(len(line), 1, n_letters)\n",
    "    for li in range(len(line)):\n",
    "        letter = line[li]\n",
    "        tensor[li][0][all_letters.find(letter)] = 1\n",
    "    return tensor\n",
    "\n",
    "# LongTensor of second letter to end (EOS) for target\n",
    "def targetTensor(line):\n",
    "    letter_indexes = [all_letters.find(line[li]) for li in range(1, len(line))]\n",
    "    letter_indexes.append(n_letters - 1) # EOS\n",
    "    return torch.LongTensor(letter_indexes)"
   ]
  },
  {
   "cell_type": "code",
   "execution_count": 102,
   "metadata": {
    "ExecuteTime": {
     "end_time": "2017-10-01T12:10:36.824113Z",
     "start_time": "2017-10-01T12:10:36.807092Z"
    }
   },
   "outputs": [],
   "source": [
    "# Make category, input, and target tensors from a random category, line pair\n",
    "def randomTrainingExample(my_dict):\n",
    "    category, line = randomTrainingPair(my_dict)\n",
    "    category_tensor = Variable(categoryTensor(category,my_dict))\n",
    "    input_line_tensor = Variable(inputTensor(line))\n",
    "    target_line_tensor = Variable(targetTensor(line))\n",
    "    return category_tensor, input_line_tensor, target_line_tensor\n",
    "\n",
    "\n",
    "def randomChoice(l):\n",
    "    return l[random.randint(0, len(l) - 1)]\n",
    "\n",
    "def randomTrainingExample_disc(my_dict):\n",
    "    category = randomChoice(my_dict.all_categories)\n",
    "    line = randomChoice(my_dict.category_lines[category])\n",
    "    category_tensor = Variable(torch.LongTensor([my_dict.all_categories.index(category)]))\n",
    "    line_tensor = Variable(lineToTensor(line))\n",
    "    return category_tensor, line_tensor\n"
   ]
  },
  {
   "cell_type": "code",
   "execution_count": 103,
   "metadata": {
    "ExecuteTime": {
     "end_time": "2017-10-01T12:10:37.546463Z",
     "start_time": "2017-10-01T12:10:37.535470Z"
    },
    "collapsed": true
   },
   "outputs": [],
   "source": [
    "criterion = nn.NLLLoss()\n",
    "\n",
    "\n",
    "def train(category_tensor, input_line_tensor, target_line_tensor, optimizer):\n",
    "    hidden = rnn.initHidden()\n",
    "\n",
    "    rnn.zero_grad()\n",
    "    loss = 0\n",
    "\n",
    "    for i in range(input_line_tensor.size()[0]):\n",
    "        output, hidden = rnn(category_tensor, input_line_tensor[i], hidden)\n",
    "        loss += criterion(output, target_line_tensor[i])\n",
    "\n",
    "    loss.backward()\n",
    "\n",
    "    optimizer.step()\n",
    "\n",
    "    return output, loss.data[0] / input_line_tensor.size()[0]"
   ]
  },
  {
   "cell_type": "code",
   "execution_count": 104,
   "metadata": {
    "ExecuteTime": {
     "end_time": "2017-10-01T12:12:49.819907Z",
     "start_time": "2017-10-01T12:10:38.847513Z"
    }
   },
   "outputs": [
    {
     "name": "stdout",
     "output_type": "stream",
     "text": [
      "0m 13s (1000 10%) 2.5696 tl=2.6210\n",
      "0m 26s (2000 20%) 1.8505 tl=2.4766\n",
      "0m 38s (3000 30%) 2.5160 tl=2.4335\n",
      "0m 52s (4000 40%) 3.1029 tl=2.3987\n",
      "1m 12s (5000 50%) 3.1891 tl=2.3802\n",
      "1m 24s (6000 60%) 2.8613 tl=2.3481\n",
      "1m 36s (7000 70%) 2.7258 tl=2.3566\n",
      "1m 47s (8000 80%) 1.4782 tl=2.3460\n",
      "1m 58s (9000 90%) 2.1016 tl=2.4020\n",
      "2m 10s (10000 100%) 2.0183 tl=2.3632\n"
     ]
    },
    {
     "data": {
      "image/png": "[encoded data removed]",
      "text/plain": [
       "<matplotlib.figure.Figure at 0x14203a10fd0>"
      ]
     },
     "metadata": {},
     "output_type": "display_data"
    }
   ],
   "source": [
    "import time\n",
    "import math\n",
    "\n",
    "def timeSince(since):\n",
    "    now = time.time()\n",
    "    s = now - since\n",
    "    m = math.floor(s / 60)\n",
    "    s -= m * 60\n",
    "    return '%dm %ds' % (m, s)\n",
    "rnn = RNN(n_letters, 56, n_letters)\n",
    "\n",
    "n_iters = 10000\n",
    "print_every = 1000\n",
    "plot_every = 500\n",
    "all_losses = []\n",
    "total_loss = 0 # Reset every plot_every iters\n",
    "\n",
    "start = time.time()\n",
    "optimizer = optim.Adam(rnn.parameters(), lr=0.001)\n",
    "for iter in range(1, n_iters + 1):\n",
    "    output, loss = train(*randomTrainingExample(dict1),optimizer)\n",
    "    total_loss += loss\n",
    "\n",
    "    if iter % print_every == 0:\n",
    "        print('%s (%d %d%%) %.4f tl=%.4f' % (timeSince(start), iter, iter / n_iters * 100, loss,total_loss/plot_every))\n",
    "\n",
    "    if iter % plot_every == 0:\n",
    "        all_losses.append(total_loss / plot_every)\n",
    "        total_loss = 0\n",
    "import matplotlib.pyplot as plt\n",
    "import matplotlib.ticker as ticker\n",
    "\n",
    "plt.figure()\n",
    "plt.plot(all_losses)\n",
    "plt.show()"
   ]
  },
  {
   "cell_type": "code",
   "execution_count": 40,
   "metadata": {
    "ExecuteTime": {
     "end_time": "2017-10-01T11:30:13.067692Z",
     "start_time": "2017-10-01T11:30:13.025645Z"
    },
    "collapsed": true
   },
   "outputs": [],
   "source": [
    "class RNN_disc(nn.Module):\n",
    "    def __init__(self, input_size, hidden_size, output_size):\n",
    "        super(RNN_disc, self).__init__()\n",
    "\n",
    "        self.hidden_size = hidden_size\n",
    "\n",
    "        self.i2h = nn.Linear(input_size + hidden_size, hidden_size)\n",
    "        self.i2o = nn.Linear(input_size + hidden_size, output_size)\n",
    "        self.softmax = nn.LogSoftmax()\n",
    "\n",
    "    def forward(self, input, hidden):\n",
    "        combined = torch.cat((input, hidden), 1)\n",
    "        hidden = self.i2h(combined)\n",
    "        output = self.i2o(combined)\n",
    "        output = self.softmax(output)\n",
    "        return output, hidden\n",
    "\n",
    "    def initHidden(self):\n",
    "        return Variable(torch.zeros(1, self.hidden_size))\n",
    "\n",
    "n_hidden = 20\n",
    "rnn_disc1 = RNN_disc(n_letters, n_hidden, dict2.n_categories)\n",
    "rnn_disc2 = RNN_disc(n_letters, n_hidden, dict3.n_categories)\n",
    "\n",
    "\n",
    "criterion = nn.NLLLoss()\n",
    "\n",
    "def train_disc(category_tensor, line_tensor, my_rnn,optimizer):\n",
    "    hidden = my_rnn.initHidden()\n",
    "\n",
    "    my_rnn.zero_grad()\n",
    "\n",
    "    for i in range(line_tensor.size()[0]):\n",
    "        output, hidden = my_rnn(line_tensor[i], hidden)\n",
    "\n",
    "    loss = criterion(output, category_tensor)\n",
    "    loss.backward()\n",
    "\n",
    "    optimizer.step()\n",
    "\n",
    "    return output, loss.data[0]\n",
    "\n"
   ]
  },
  {
   "cell_type": "code",
   "execution_count": 43,
   "metadata": {
    "ExecuteTime": {
     "end_time": "2017-10-01T11:32:27.858766Z",
     "start_time": "2017-10-01T11:31:51.834228Z"
    }
   },
   "outputs": [
    {
     "name": "stdout",
     "output_type": "stream",
     "text": [
      "1000 10% (0m 3s) 0.0613\n",
      "2000 20% (0m 7s) 0.2680\n",
      "3000 30% (0m 10s) 0.6922\n",
      "4000 40% (0m 14s) 1.1957\n",
      "5000 50% (0m 17s) 0.3503\n",
      "6000 60% (0m 21s) 0.0867\n",
      "7000 70% (0m 24s) 0.2077\n",
      "8000 80% (0m 28s) 0.4738\n",
      "9000 90% (0m 32s) 0.0142\n",
      "10000 100% (0m 35s) 0.0387\n"
     ]
    },
    {
     "data": {
      "image/png": "[encoded data removed]",
      "text/plain": [
       "<matplotlib.figure.Figure at 0x142038cc400>"
      ]
     },
     "metadata": {},
     "output_type": "display_data"
    }
   ],
   "source": [
    "n_iters = 10000\n",
    "print_every = 1000\n",
    "plot_every = 100\n",
    "\n",
    "# Keep track of losses for plotting\n",
    "current_loss = 0\n",
    "all_losses = []\n",
    "\n",
    "start = time.time()\n",
    "optimizer = optim.Adam(rnn_disc1.parameters(), lr=0.001)\n",
    "for iter in range(1, n_iters + 1):\n",
    "    category_tensor, input_line_tensor = randomTrainingExample_disc(dict2)\n",
    "    output, loss = train_disc(category_tensor, input_line_tensor,rnn_disc1,optimizer)\n",
    "    current_loss += loss\n",
    "\n",
    "    # Print iter number, loss, name and guess\n",
    "    if iter % print_every == 0:\n",
    "        print('%d %d%% (%s) %.4f' % (iter, iter / n_iters * 100, timeSince(start), loss))\n",
    "\n",
    "    # Add current loss avg to list of losses\n",
    "    if iter % plot_every == 0:\n",
    "        all_losses.append(current_loss / plot_every)\n",
    "        current_loss = 0\n",
    "plt.figure()\n",
    "plt.plot(all_losses)\n",
    "plt.show()"
   ]
  },
  {
   "cell_type": "code",
   "execution_count": 44,
   "metadata": {
    "ExecuteTime": {
     "end_time": "2017-10-01T11:33:07.691365Z",
     "start_time": "2017-10-01T11:32:27.980951Z"
    }
   },
   "outputs": [
    {
     "name": "stdout",
     "output_type": "stream",
     "text": [
      "1000 10% (0m 3s) 0.1725\n",
      "2000 20% (0m 7s) 0.0059\n",
      "3000 30% (0m 11s) 0.0814\n",
      "4000 40% (0m 15s) 0.0080\n",
      "5000 50% (0m 19s) 0.0068\n",
      "6000 60% (0m 23s) 0.0346\n",
      "7000 70% (0m 27s) 0.7295\n",
      "8000 80% (0m 31s) 0.0332\n",
      "9000 90% (0m 35s) 0.9363\n",
      "10000 100% (0m 39s) 0.3453\n"
     ]
    },
    {
     "data": {
      "image/png": "[encoded data removed]",
      "text/plain": [
       "<matplotlib.figure.Figure at 0x14203813908>"
      ]
     },
     "metadata": {},
     "output_type": "display_data"
    }
   ],
   "source": [
    "# Keep track of losses for plotting\n",
    "current_loss = 0\n",
    "all_losses = []\n",
    "\n",
    "start = time.time()\n",
    "optimizer = optim.Adam(rnn_disc2.parameters(), lr=0.001)\n",
    "for iter in range(1, n_iters + 1):\n",
    "    category_tensor, input_line_tensor = randomTrainingExample_disc(dict3)\n",
    "    output, loss = train_disc(category_tensor, input_line_tensor,rnn_disc2,optimizer)\n",
    "    current_loss += loss\n",
    "\n",
    "    # Print iter number, loss, name and guess\n",
    "    if iter % print_every == 0:\n",
    "        print('%d %d%% (%s) %.4f' % (iter, iter / n_iters * 100, timeSince(start), loss))\n",
    "\n",
    "    # Add current loss avg to list of losses\n",
    "    if iter % plot_every == 0:\n",
    "        all_losses.append(current_loss / plot_every)\n",
    "        current_loss = 0\n",
    "plt.figure()\n",
    "plt.plot(all_losses)\n",
    "plt.show()"
   ]
  },
  {
   "cell_type": "code",
   "execution_count": 128,
   "metadata": {
    "ExecuteTime": {
     "end_time": "2017-10-01T12:50:40.157805Z",
     "start_time": "2017-10-01T12:49:52.101578Z"
    }
   },
   "outputs": [
    {
     "name": "stdout",
     "output_type": "stream",
     "text": [
      "Абандова, Атоскосо, Абинов, Атьсоебанин, Атьсякина, \n",
      "Батьсякина, Береватосьев, Берена, Батьсякина, Берева, \n",
      "Вебена, Вадоескаяс, Выебенив, Вхуяреван, Водоебена, \n",
      "Гороебанов, Гороебанов, Горебев, Гороебен, Гороебен, \n",
      "Дохуярова, Дребена, Далебани, Дребена, Дохуярив, \n",
      "Ебанова, Еребен, Еминдохив, Ебанова, Ереблядин, \n",
      "Жебена, Жипиздяр, Жадовская, Жеребен, Жебена, \n",
      "Заманова, Здохуева, Зопизаябива, Зебандоха, Заманева, \n",
      "Издяритьсякин, Итьсякина, Инанано, Издохуенива, Итьсякина, \n",
      "Йебена, Йатьсякова, Йребен, Йебена, Йемандяр, \n",
      "Командяшквани, Канаебин, Кизаноскина, Командяш, Командяш, \n",
      "Лопездярив, Лебано, Лодебен, Лопиздохатова, Ломандяшива, \n",
      "Мандохива, Мудохуева, Мендова, Модоебанив, Мадоебини, \n",
      "Наебанива, Небена, Нопоздохитова, Наебенив, Наебена, \n",
      "Обена, Опиздярива, Омандярив, Обандов, Обандошива, \n",
      "Пидолобанов, Пропиндяшива, Поздолинева, Пизатьсякина, Пиздохуяксв, \n",
      "Распизена, Репиздяшива, Ребандов, Распиздярив, Ропизминдярив, \n",
      "Себенко, Стеребан, Совъкова, Спииманина, Стемендова, \n",
      "Тоспиздяхива, Тебенков, Тамандяшкова, Тебелен, Теребев, \n",
      "Утьсякив, Уебани, Убана, Уебанива, Ухуярева, \n",
      "Фодохуяшинат, Фериздохив, Филебен, Фелебен, Фериздовскаяс, \n",
      "Хиноебен, Хуячив, Ховатоская, Хаебен, Хуяритьсяков, \n",
      "Цемандохив, Цовыибен, Цамандяш, Цемандяшива, Цеминдош, \n",
      "Чебенко, Чуебани, Чиноебатов, Чудохая, Чудохуева, \n",
      "Шинановская, Шеребена, Шатьебан, Шинатосьеви, Шебенко, \n",
      "Щенеебин, Щиканоеба, Щоспизева, Щаноебатова, Щеневен, \n",
      "Ъхуюливь, Ъебетев, Ъйина, Ъоманин, Ътьсхая, \n",
      "Ымандюливь, Ыбина, Ыпотьсякина, Ыебанива, Ымализано, \n",
      "Ьсебена, Ьебанинов, Ьсебинов, Ьсеберева, Ьсярина, \n",
      "Эриздохуя, Элиздохива, Эебетев, Эремендована, Эриздохива, \n",
      "Юхуванинов, Юринана, Юлананов, Ютьсков, Юринков, \n",
      "Ябитьсова, Яревани, Яхатов, Ябатова, Яриздяшива, \n"
     ]
    }
   ],
   "source": [
    "\n",
    "def categoryFromOutput(output,my_dict):\n",
    "    top_n, top_i = output.data.topk(1) # Tensor out of Variable with .data\n",
    "    category_i = top_i[0][0]\n",
    "    return my_dict.all_categories[category_i], category_i, top_n[0][0]\n",
    "\n",
    "\n",
    "# Just return an output given a line\n",
    "def evaluate_disc(line,my_rnn):\n",
    "    line_tensor=Variable(lineToTensor(line))\n",
    "    hidden = my_rnn.initHidden()\n",
    "    for i in range(line_tensor.size()[0]):\n",
    "        output, hidden = my_rnn(line_tensor[i], hidden)\n",
    "\n",
    "    return output\n",
    "\n",
    "\n",
    "max_length = 20\n",
    "\n",
    "\n",
    "def sample(start_letters='A'):\n",
    "    start_letters=toUpperCaseMy(start_letters)\n",
    "    category_tensor1 = Variable(categoryTensor(dict1.all_categories[0],dict1))\n",
    "    category_tensor2 = Variable(categoryTensor(dict1.all_categories[1],dict1))\n",
    "    input = Variable(inputTensor(start_letters[0]))\n",
    "    hidden = rnn.initHidden()\n",
    "\n",
    "    output_name = start_letters[0]\n",
    "    category_tensor=category_tensor1\n",
    "    for i in range(max_length):\n",
    "        output, hidden = rnn(category_tensor, input[0], hidden)\n",
    "        topv, topi = output.data.topk(1)\n",
    "        topi = topi[0][0]\n",
    "        #print(topv)\n",
    "        if topi == (n_letters - 1):\n",
    "            break\n",
    "        else:\n",
    "            letter = all_letters[topi]\n",
    "            if ((i+1)<len(start_letters)):\n",
    "                letter=start_letters[i+1]\n",
    "            output_name += letter\n",
    "        input = Variable(inputTensor(letter))\n",
    "\n",
    "    return output_name\n",
    "\n",
    "list_of_examp_per_letter=[]\n",
    "for n_letter in range (32):\n",
    "    letter=chr(ord('А')+n_letter)\n",
    "    list_of_examp=[]\n",
    "    number_of_examps=0\n",
    "    cycles=0\n",
    "    while (number_of_examps<5):\n",
    "        cycles+=1\n",
    "        new_examp=sample(letter)\n",
    "        found=0\n",
    "        if ((len(new_examp)>3) and (len(new_examp)<15)):\n",
    "            for examp in list_of_examp:\n",
    "                if ((examp[1]==new_examp[1]) and (cycles<500)) or ((examp[2]==new_examp[2]) and (cycles<400)):\n",
    "                    found=1\n",
    "            if (found==0):\n",
    "                _,out_disc_is_name, val_n=categoryFromOutput(evaluate_disc(new_examp,rnn_disc1),dict2)\n",
    "                _,out_disc_is_obsc, val_obsc=categoryFromOutput(evaluate_disc(new_examp,rnn_disc2),dict3)\n",
    "                if (out_disc_is_name==0)  and ((out_disc_is_obsc==0) or (cycles>1000)):\n",
    "                    list_of_examp.append(new_examp)\n",
    "                    number_of_examps+=1\n",
    "    string_to_print=\"\"\n",
    "    for i in range(len(list_of_examp)):\n",
    "        string_to_print=string_to_print+capitalizeMy(toLowerCaseMy(list_of_examp[i])) + \", \"\n",
    "    print(string_to_print)\n"
   ]
  },
  {
   "cell_type": "code",
   "execution_count": null,
   "metadata": {
    "collapsed": true
   },
   "outputs": [],
   "source": []
  },
  {
   "cell_type": "code",
   "execution_count": null,
   "metadata": {
    "collapsed": true
   },
   "outputs": [],
   "source": []
  }
 ],
 "metadata": {
  "kernelspec": {
   "display_name": "Python 3",
   "language": "python",
   "name": "python3"
  },
  "varInspector": {
   "cols": {
    "lenName": 16,
    "lenType": 16,
    "lenVar": 40
   },
   "kernels_config": {
    "python": {
     "delete_cmd_postfix": "",
     "delete_cmd_prefix": "del ",
     "library": "var_list.py",
     "varRefreshCmd": "print(var_dic_list())"
    },
    "r": {
     "delete_cmd_postfix": ") ",
     "delete_cmd_prefix": "rm(",
     "library": "var_list.r",
     "varRefreshCmd": "cat(var_dic_list()) "
    }
   },
   "types_to_exclude": [
    "module",
    "function",
    "builtin_function_or_method",
    "instance",
    "_Feature"
   ],
   "window_display": false
  }
 },
 "nbformat": 4,
 "nbformat_minor": 2
}
